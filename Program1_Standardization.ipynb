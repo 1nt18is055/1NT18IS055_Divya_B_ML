{
 "cells": [
  {
   "cell_type": "code",
   "execution_count": 44,
   "metadata": {},
   "outputs": [
    {
     "name": "stdout",
     "output_type": "stream",
     "text": [
      "Mean value is:121.24000000000001\n"
     ]
    }
   ],
   "source": [
    "l=[115.3,195.5,120.5,110.2,90.4,105.6,110.9,116.3,122.3,125.4]\n",
    "result=0\n",
    "for i in l:\n",
    "    result+=i\n",
    "mean=result/len(l)\n",
    "print(\"Mean value is:\"+str(mean))"
   ]
  },
  {
   "cell_type": "code",
   "execution_count": 45,
   "metadata": {},
   "outputs": [
    {
     "name": "stdout",
     "output_type": "stream",
     "text": [
      "Median is:115.8\n"
     ]
    }
   ],
   "source": [
    "l.sort()\n",
    "\n",
    "n=len(l)\n",
    "if(n%2==0):\n",
    "    m1=l[n//2]\n",
    "    m2=l[(n//2)-1]\n",
    "    res=l[(m1+m2)/2]\n",
    "else:\n",
    "    res=l[n//2] \n",
    "print(\"Median is:\"+str(res))\n"
   ]
  },
  {
   "cell_type": "code",
   "execution_count": 46,
   "metadata": {},
   "outputs": [
    {
     "name": "stdout",
     "output_type": "stream",
     "text": [
      "Mode is: \n",
      "{195.5, 122.3, 105.6, 110.9, 110.2, 115.3, 116.3, 120.5, 90.4, 125.4}\n"
     ]
    }
   ],
   "source": [
    "l1=[]\n",
    "i=0\n",
    "while i < len(l):\n",
    "    l1.append(l.count(l[i]))\n",
    "    i+=1\n",
    "    \n",
    "\n",
    "d = dict(zip(l,l1))\n",
    "d1={k for (k,v) in d.items() if v==max(l1)}\n",
    "print(\"Mode is: \")\n",
    "print(d1)"
   ]
  },
  {
   "cell_type": "code",
   "execution_count": 47,
   "metadata": {},
   "outputs": [
    {
     "name": "stdout",
     "output_type": "stream",
     "text": [
      "variance is: 779.7471111111112\n"
     ]
    }
   ],
   "source": [
    "var1=0\n",
    "for i in l:\n",
    "    var1+=(i-mean)**2\n",
    "variance=var1/(n-1)\n",
    "print(\"variance is: \"+str(variance))"
   ]
  },
  {
   "cell_type": "code",
   "execution_count": 48,
   "metadata": {},
   "outputs": [
    {
     "name": "stdout",
     "output_type": "stream",
     "text": [
      "Standard deviation is:27.923952283140565\n"
     ]
    }
   ],
   "source": [
    "stdv=variance**(1/2)\n",
    "print(\"Standard deviation is:\"+str(stdv))"
   ]
  },
  {
   "cell_type": "code",
   "execution_count": 49,
   "metadata": {},
   "outputs": [
    {
     "name": "stdout",
     "output_type": "stream",
     "text": [
      "Normalized\n",
      "{90.4: 0.0, 105.6: 0.14462416745956222, 110.2: 0.18839200761179828, 110.9: 0.1950523311132255, 115.3: 0.23691722169362506, 116.3: 0.24643196955280677, 120.5: 0.2863939105613701, 122.3: 0.3035204567078972, 125.4: 0.3330161750713606, 195.5: 1.0}\n"
     ]
    }
   ],
   "source": [
    "minm=min(l)\n",
    "maxm=max(l)\n",
    "nmax=1\n",
    "nmin=0\n",
    "normal=[]\n",
    "for i in l:\n",
    "    x=(i-min\n",
    "prinm)/(maxm-minm)\n",
    "    normal.append(x)\n",
    "d2=dict(zip(l,normal))\n",
    "print(\"Normalized\")\n",
    "print(d2)"
   ]
  },
  {
   "cell_type": "code",
   "execution_count": 50,
   "metadata": {},
   "outputs": [
    {
     "name": "stdout",
     "output_type": "stream",
     "text": [
      "standardization\n",
      "{90.4: -1.1044281872168948, 105.6: -0.5600926345029912, 110.2: -0.39535950670799364, 110.9: -0.37029142204353743, 115.3: -0.2127206041526708, 116.3: -0.17690905463201922, 120.5: -0.026500546645282494, 122.3: 0.03796024249189024, 125.4: 0.14897604600591044, 195.5: 2.659365667403586}\n"
     ]
    }
   ],
   "source": [
    "standard=[]\n",
    "for a in l:\n",
    "    std1=(a-mean)/stdv\n",
    "    standard.append(std1)\n",
    "d3=dict(zip(l,standard))\n",
    "print(\"standardization\")\n",
    "print(d3)"
   ]
  },
  {
   "cell_type": "code",
   "execution_count": null,
   "metadata": {},
   "outputs": [],
   "source": []
  }
 ],
 "metadata": {
  "kernelspec": {
   "display_name": "Python 3",
   "language": "python",
   "name": "python3"
  },
  "language_info": {
   "codemirror_mode": {
    "name": "ipython",
    "version": 3
   },
   "file_extension": ".py",
   "mimetype": "text/x-python",
   "name": "python",
   "nbconvert_exporter": "python",
   "pygments_lexer": "ipython3",
   "version": "3.7.3"
  }
 },
 "nbformat": 4,
 "nbformat_minor": 2
}
