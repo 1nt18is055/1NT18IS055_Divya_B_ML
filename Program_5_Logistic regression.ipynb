{
 "cells": [
  {
   "cell_type": "code",
   "execution_count": 1,
   "id": "fb53a249",
   "metadata": {},
   "outputs": [],
   "source": [
    "#importing libraries\n",
    "import pandas as pd  #reading dataset\n",
    "import numpy as np  #work with arrays\n",
    "from matplotlib import pyplot as plt\n",
    "from scipy.special import expit   # to deal with mathematical formuala\n",
    "from sklearn.model_selection import train_test_split"
   ]
  },
  {
   "cell_type": "code",
   "execution_count": 2,
   "id": "55baff40",
   "metadata": {},
   "outputs": [],
   "source": [
    "#reading data\n",
    "data = pd.read_csv(\"C:\\\\Users\\My PC\\Desktop\\Student_University.csv\", header = None)"
   ]
  },
  {
   "cell_type": "code",
   "execution_count": 3,
   "id": "2734ce4c",
   "metadata": {},
   "outputs": [
    {
     "data": {
      "text/html": [
       "<div>\n",
       "<style scoped>\n",
       "    .dataframe tbody tr th:only-of-type {\n",
       "        vertical-align: middle;\n",
       "    }\n",
       "\n",
       "    .dataframe tbody tr th {\n",
       "        vertical-align: top;\n",
       "    }\n",
       "\n",
       "    .dataframe thead th {\n",
       "        text-align: right;\n",
       "    }\n",
       "</style>\n",
       "<table border=\"1\" class=\"dataframe\">\n",
       "  <thead>\n",
       "    <tr style=\"text-align: right;\">\n",
       "      <th></th>\n",
       "      <th>0</th>\n",
       "      <th>1</th>\n",
       "      <th>2</th>\n",
       "    </tr>\n",
       "  </thead>\n",
       "  <tbody>\n",
       "    <tr>\n",
       "      <th>0</th>\n",
       "      <td>34.623660</td>\n",
       "      <td>78.024693</td>\n",
       "      <td>0</td>\n",
       "    </tr>\n",
       "    <tr>\n",
       "      <th>1</th>\n",
       "      <td>30.286711</td>\n",
       "      <td>43.894998</td>\n",
       "      <td>0</td>\n",
       "    </tr>\n",
       "    <tr>\n",
       "      <th>2</th>\n",
       "      <td>35.847409</td>\n",
       "      <td>72.902198</td>\n",
       "      <td>0</td>\n",
       "    </tr>\n",
       "    <tr>\n",
       "      <th>3</th>\n",
       "      <td>60.182599</td>\n",
       "      <td>86.308552</td>\n",
       "      <td>1</td>\n",
       "    </tr>\n",
       "    <tr>\n",
       "      <th>4</th>\n",
       "      <td>79.032736</td>\n",
       "      <td>75.344376</td>\n",
       "      <td>1</td>\n",
       "    </tr>\n",
       "  </tbody>\n",
       "</table>\n",
       "</div>"
      ],
      "text/plain": [
       "           0          1  2\n",
       "0  34.623660  78.024693  0\n",
       "1  30.286711  43.894998  0\n",
       "2  35.847409  72.902198  0\n",
       "3  60.182599  86.308552  1\n",
       "4  79.032736  75.344376  1"
      ]
     },
     "execution_count": 3,
     "metadata": {},
     "output_type": "execute_result"
    }
   ],
   "source": [
    "#printing the data\n",
    "data.head()\n"
   ]
  },
  {
   "cell_type": "code",
   "execution_count": 4,
   "id": "d63bbf4f",
   "metadata": {},
   "outputs": [],
   "source": [
    "#selecting the rows and columns using iloc and list function \n",
    "X = data.iloc[:,0:2]\n",
    "Y = list(data[2])\n",
    " \n",
    "#min-max normalization\n",
    "for i in range(len(X)):\n",
    "    X[0]= ( X[0] - X[0].min() ) / ( X[0].max() - X[0].min() ) \n",
    "    X[1] =  ( X[1] - X[1].min() ) / ( X[1].max() - X[1].min() ) \n"
   ]
  },
  {
   "cell_type": "code",
   "execution_count": 5,
   "id": "33127148",
   "metadata": {},
   "outputs": [
    {
     "data": {
      "text/html": [
       "<div>\n",
       "<style scoped>\n",
       "    .dataframe tbody tr th:only-of-type {\n",
       "        vertical-align: middle;\n",
       "    }\n",
       "\n",
       "    .dataframe tbody tr th {\n",
       "        vertical-align: top;\n",
       "    }\n",
       "\n",
       "    .dataframe thead th {\n",
       "        text-align: right;\n",
       "    }\n",
       "</style>\n",
       "<table border=\"1\" class=\"dataframe\">\n",
       "  <thead>\n",
       "    <tr style=\"text-align: right;\">\n",
       "      <th></th>\n",
       "      <th>0</th>\n",
       "      <th>1</th>\n",
       "    </tr>\n",
       "  </thead>\n",
       "  <tbody>\n",
       "    <tr>\n",
       "      <th>0</th>\n",
       "      <td>0.065428</td>\n",
       "      <td>0.694655</td>\n",
       "    </tr>\n",
       "    <tr>\n",
       "      <th>1</th>\n",
       "      <td>0.003266</td>\n",
       "      <td>0.194705</td>\n",
       "    </tr>\n",
       "    <tr>\n",
       "      <th>2</th>\n",
       "      <td>0.082968</td>\n",
       "      <td>0.619618</td>\n",
       "    </tr>\n",
       "    <tr>\n",
       "      <th>3</th>\n",
       "      <td>0.431764</td>\n",
       "      <td>0.816001</td>\n",
       "    </tr>\n",
       "    <tr>\n",
       "      <th>4</th>\n",
       "      <td>0.701943</td>\n",
       "      <td>0.655392</td>\n",
       "    </tr>\n",
       "    <tr>\n",
       "      <th>...</th>\n",
       "      <td>...</td>\n",
       "      <td>...</td>\n",
       "    </tr>\n",
       "    <tr>\n",
       "      <th>95</th>\n",
       "      <td>0.765817</td>\n",
       "      <td>0.260407</td>\n",
       "    </tr>\n",
       "    <tr>\n",
       "      <th>96</th>\n",
       "      <td>0.174904</td>\n",
       "      <td>0.827651</td>\n",
       "    </tr>\n",
       "    <tr>\n",
       "      <th>97</th>\n",
       "      <td>0.992649</td>\n",
       "      <td>0.559166</td>\n",
       "    </tr>\n",
       "    <tr>\n",
       "      <th>98</th>\n",
       "      <td>0.362356</td>\n",
       "      <td>0.502865</td>\n",
       "    </tr>\n",
       "    <tr>\n",
       "      <th>99</th>\n",
       "      <td>0.640930</td>\n",
       "      <td>0.863188</td>\n",
       "    </tr>\n",
       "  </tbody>\n",
       "</table>\n",
       "<p>100 rows × 2 columns</p>\n",
       "</div>"
      ],
      "text/plain": [
       "           0         1\n",
       "0   0.065428  0.694655\n",
       "1   0.003266  0.194705\n",
       "2   0.082968  0.619618\n",
       "3   0.431764  0.816001\n",
       "4   0.701943  0.655392\n",
       "..       ...       ...\n",
       "95  0.765817  0.260407\n",
       "96  0.174904  0.827651\n",
       "97  0.992649  0.559166\n",
       "98  0.362356  0.502865\n",
       "99  0.640930  0.863188\n",
       "\n",
       "[100 rows x 2 columns]"
      ]
     },
     "execution_count": 5,
     "metadata": {},
     "output_type": "execute_result"
    }
   ],
   "source": [
    "X"
   ]
  },
  {
   "cell_type": "code",
   "execution_count": 6,
   "id": "15665702",
   "metadata": {},
   "outputs": [],
   "source": [
    "#Splitting dataset as training and testing\n",
    "x_train, x_test, y_train, y_test = train_test_split(X, Y, test_size = 0.2, random_state = 111)"
   ]
  },
  {
   "cell_type": "code",
   "execution_count": 7,
   "id": "37931426",
   "metadata": {},
   "outputs": [],
   "source": [
    "#assining the values from testing and tarining dataset\n",
    "x1 = list(x_train[0])\n",
    "x1_test = list(x_test[0])\n",
    "x2 = list(x_train[1])\n",
    "x2_test = list(x_test[1])"
   ]
  },
  {
   "cell_type": "code",
   "execution_count": 8,
   "id": "c28cbf00",
   "metadata": {},
   "outputs": [],
   "source": [
    "#taking the linear regression rate coefficient initial vale and e value\n",
    "b = [1,0.5,0.5]\n",
    "l_rate = 0.3\n",
    "e = 2.71828"
   ]
  },
  {
   "cell_type": "code",
   "execution_count": 9,
   "id": "f265e310",
   "metadata": {},
   "outputs": [],
   "source": [
    "n = len(x1)"
   ]
  },
  {
   "cell_type": "code",
   "execution_count": 10,
   "id": "784cca4c",
   "metadata": {},
   "outputs": [],
   "source": [
    "#defining the function for calculating the new b value\n",
    "def grad_desc(b):\n",
    "    p = []\n",
    "    x = []\n",
    "    a = 0\n",
    "    for i in range(n):\n",
    "        x.append(b[0] + b[1] * x1[i] + b[2] * x2[i])\n",
    "        #print(x[i])\n",
    "    for i in range(n):\n",
    "        #print( expit(x[i]) )\n",
    "        p.append( 1 / ( 1 + ( e ** ( -1 * x[i] ) ) ) )  #logistic regression formula\n",
    "\n",
    "    for j in range(3):\n",
    "        for i in range(n):\n",
    "            a = l_rate * (y_train[i] - p[i]) * (p[i]) * (1 - p[i])  #learning rate using which coefficints are calculated\n",
    "            if(j == 1):\n",
    "                a *= x1[i]\n",
    "            if(j == 2):\n",
    "                a *= x2[i]\n",
    "            b[j] += a \n",
    "        #print(b[j])\n",
    "    return b\n",
    "for i in range(5):\n",
    "    b = grad_desc(b)\n",
    "    #print(b[0])\n",
    "#print(b)\n"
   ]
  },
  {
   "cell_type": "code",
   "execution_count": 11,
   "id": "e2ca6a00",
   "metadata": {},
   "outputs": [],
   "source": [
    "x = []\n",
    "pred = []\n",
    "nt = len(x_test)\n",
    "\n",
    "for i in range(nt):\n",
    "    x.append(b[0] + b[1] * x1_test[i] + b[2] * x2_test[i])\n",
    "for i in range(nt):\n",
    "    pred.append( 1 / ( 1 + ( e ** ( -1 * x[i] ) ) ) )\n",
    "    \n",
    "#print(pred)\n",
    "for i in range(nt):\n",
    "    if (pred[i] > 0.5):\n",
    "        pred[i] = 1\n",
    "    else:\n",
    "        pred[i] = 0\n",
    "#print(pred)"
   ]
  },
  {
   "cell_type": "code",
   "execution_count": 12,
   "id": "f8042dd3",
   "metadata": {},
   "outputs": [
    {
     "name": "stdout",
     "output_type": "stream",
     "text": [
      "[[ 9  1]\n",
      " [ 0 10]]\n",
      "              precision    recall  f1-score   support\n",
      "\n",
      "           0       1.00      0.90      0.95        10\n",
      "           1       0.91      1.00      0.95        10\n",
      "\n",
      "    accuracy                           0.95        20\n",
      "   macro avg       0.95      0.95      0.95        20\n",
      "weighted avg       0.95      0.95      0.95        20\n",
      "\n"
     ]
    }
   ],
   "source": [
    "from sklearn.metrics import classification_report, confusion_matrix\n",
    "print(confusion_matrix(y_test, pred))\n",
    "print(classification_report(y_test, pred))"
   ]
  },
  {
   "cell_type": "code",
   "execution_count": null,
   "id": "4343a128",
   "metadata": {},
   "outputs": [],
   "source": []
  }
 ],
 "metadata": {
  "kernelspec": {
   "display_name": "Python 3 (ipykernel)",
   "language": "python",
   "name": "python3"
  },
  "language_info": {
   "codemirror_mode": {
    "name": "ipython",
    "version": 3
   },
   "file_extension": ".py",
   "mimetype": "text/x-python",
   "name": "python",
   "nbconvert_exporter": "python",
   "pygments_lexer": "ipython3",
   "version": "3.10.1"
  }
 },
 "nbformat": 4,
 "nbformat_minor": 5
}
